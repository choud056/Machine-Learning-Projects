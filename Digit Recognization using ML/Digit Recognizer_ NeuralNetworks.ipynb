{
 "cells": [
  {
   "cell_type": "code",
   "execution_count": 1,
   "metadata": {
    "collapsed": false
   },
   "outputs": [],
   "source": [
    "import numpy as np\n",
    "import scipy.io as sio\n",
    "from sklearn.model_selection import train_test_split\n",
    "from sklearn.preprocessing import OneHotEncoder \n",
    "from scipy.optimize import minimize\n",
    "import time\n",
    "import matplotlib.pyplot as plt\n",
    "% matplotlib inline"
   ]
  },
  {
   "cell_type": "code",
   "execution_count": 2,
   "metadata": {
    "collapsed": true
   },
   "outputs": [],
   "source": [
    "# randomly initializing theta parameters\n",
    "\n",
    "def randomInitializeWeights(L_in,L_out):\n",
    "    W=np.zeros((L_out,L_in+1))\n",
    "    epsilon = 0.12\n",
    "    W = np.random.rand(L_out,L_in+1)*(2*epsilon)-epsilon\n",
    "    return W   "
   ]
  },
  {
   "cell_type": "code",
   "execution_count": 3,
   "metadata": {
    "collapsed": true
   },
   "outputs": [],
   "source": [
    "def sigmoid(z):  \n",
    "    return 1 / (1 + np.exp(-z))"
   ]
  },
  {
   "cell_type": "code",
   "execution_count": 4,
   "metadata": {
    "collapsed": true
   },
   "outputs": [],
   "source": [
    "def sigmoid_gradient(z):  \n",
    "    return np.multiply(sigmoid(z), (1 - sigmoid(z)))"
   ]
  },
  {
   "cell_type": "code",
   "execution_count": 5,
   "metadata": {
    "collapsed": true
   },
   "outputs": [],
   "source": [
    "# feedforward propagation\n",
    "\n",
    "def forward_propagate(X, theta1, theta2):  \n",
    "    \n",
    "    m = X.shape[0]\n",
    "\n",
    "    a1 = np.insert(X, 0, values=np.ones(m), axis=1)   # input layer activation\n",
    "    z2 = a1 * theta1.T     \n",
    "    a2 = np.insert(sigmoid(z2), 0, values=np.ones(m), axis=1)  # hidden layer activation \n",
    "    z3 = a2 * theta2.T\n",
    "    h = sigmoid(z3)    # output layer activation\n",
    "\n",
    "    return a1, z2, a2, z3, h\n",
    "    "
   ]
  },
  {
   "cell_type": "code",
   "execution_count": 6,
   "metadata": {
    "collapsed": true
   },
   "outputs": [],
   "source": [
    "# Function to find the cost\n",
    "\n",
    "def cost(params, input_size, hidden_size, num_labels, X, y, learning_rate):  \n",
    "    m = X.shape[0]\n",
    "    X = np.matrix(X)\n",
    "    y = np.matrix(y)\n",
    "\n",
    "    # reshape the parameter array into parameter matrices for each layer\n",
    "    theta1 = np.matrix(np.reshape(params[:hidden_size * (input_size + 1)], (hidden_size, (input_size + 1))))\n",
    "    theta2 = np.matrix(np.reshape(params[hidden_size * (input_size + 1):], (num_labels, (hidden_size + 1))))\n",
    "\n",
    "    # run the feed-forward pass\n",
    "    a1, z2, a2, z3, h = forward_propagate(X, theta1, theta2)\n",
    "\n",
    "    # compute the cost\n",
    "    J = 0\n",
    "    for i in range(m):\n",
    "        first_term = np.multiply(-y[i,:], np.log(h[i,:]))\n",
    "        second_term = np.multiply((1 - y[i,:]), np.log(1 - h[i,:]))\n",
    "        J += np.sum(first_term - second_term)\n",
    "\n",
    "    J = J *1.0/ m\n",
    "    \n",
    "    # adding the regulariztion term \n",
    "    J += (float(learning_rate) / (2 * m)) * (np.sum(np.power(theta1[:,1:], 2)) + np.sum(np.power(theta2[:,1:], 2)))  \n",
    "    \n",
    "    return J"
   ]
  },
  {
   "cell_type": "code",
   "execution_count": 7,
   "metadata": {
    "collapsed": true
   },
   "outputs": [],
   "source": [
    "# error backpropagation function (returns cost and gradient of the cost)\n",
    "\n",
    "def backprop(params, input_size, hidden_size, num_labels, X, y, learning_rate):  \n",
    "    \n",
    "    m = X.shape[0]\n",
    "    X = np.matrix(X)\n",
    "    y = np.matrix(y)\n",
    "\n",
    "    # reshape the parameter array into parameter matrices for each layer\n",
    "    theta1 = np.matrix(np.reshape(params[:hidden_size * (input_size + 1)], (hidden_size, (input_size + 1))))\n",
    "    theta2 = np.matrix(np.reshape(params[hidden_size * (input_size + 1):], (num_labels, (hidden_size + 1))))\n",
    "\n",
    "    # run the feed-forward pass\n",
    "    a1, z2, a2, z3, h = forward_propagate(X, theta1, theta2)\n",
    "\n",
    "    # initializations\n",
    "    J = 0\n",
    "    delta1 = np.zeros(theta1.shape)  # (25, 401)\n",
    "    delta2 = np.zeros(theta2.shape)  # (10, 26)\n",
    "\n",
    "    # compute the cost\n",
    "    for i in range(m):\n",
    "        first_term = np.multiply(-y[i,:], np.log(h[i,:]))\n",
    "        second_term = np.multiply((1 - y[i,:]), np.log(1 - h[i,:]))\n",
    "        J += np.sum(first_term - second_term)\n",
    "\n",
    "    J = J / m\n",
    "\n",
    "    # add the cost regularization term\n",
    "    J += (float(learning_rate) / (2 * m)) * (np.sum(np.power(theta1[:,1:], 2)) + np.sum(np.power(theta2[:,1:], 2)))\n",
    "\n",
    "    ##### end of cost function logic, below is the new part #####\n",
    "\n",
    "    # perform backpropagation\n",
    "    for t in range(m):\n",
    "        a1t = a1[t,:]  \n",
    "        z2t = z2[t,:]  \n",
    "        a2t = a2[t,:]  \n",
    "        ht = h[t,:]  \n",
    "        yt = y[t,:]  \n",
    "\n",
    "        d3t = ht - yt  \n",
    "\n",
    "        z2t = np.insert(z2t, 0, values=np.ones(1))  \n",
    "        d2t = np.multiply((theta2.T * d3t.T).T, sigmoid_gradient(z2t))  \n",
    "        delta1 = delta1 + (d2t[:,1:]).T * a1t\n",
    "        delta2 = delta2 + d3t.T * a2t\n",
    "\n",
    "    delta1 = delta1 / m\n",
    "    delta2 = delta2 / m\n",
    "\n",
    "    # add the gradient regularization term\n",
    "    delta1[:,1:] = delta1[:,1:] + (theta1[:,1:] * learning_rate) / m\n",
    "    delta2[:,1:] = delta2[:,1:] + (theta2[:,1:] * learning_rate) / m\n",
    "\n",
    "    # unravel the gradient matrices into a single array\n",
    "    grad = np.concatenate((np.ravel(delta1), np.ravel(delta2)))\n",
    "\n",
    "    return J, grad"
   ]
  },
  {
   "cell_type": "code",
   "execution_count": 9,
   "metadata": {
    "collapsed": false
   },
   "outputs": [
    {
     "name": "stdout",
     "output_type": "stream",
     "text": [
      "Cross Validation accuracy for learning rate 0.1 is 92.00%\n",
      "Cross Validation accuracy for learning rate 0.3 is 92.90%\n",
      "Cross Validation accuracy for learning rate 1 is 93.90%\n",
      "Cross Validation accuracy for learning rate 3 is 92.50%\n",
      "Cross Validation accuracy for learning rate 9 is 92.00%\n",
      "\n",
      "Best Accuracy achieved by Cross Validation data set is 93.90% for learning rate 1\n",
      "\n",
      "Time taken to Run loop and find the best weight paramters is 1269.440 s\n",
      "\n",
      "Time taken to learn the weight parameters 1268.846 s\n",
      "\n",
      "Time taken to make prediction 0.594 s\n"
     ]
    },
    {
     "data": {
      "text/plain": [
       "<matplotlib.text.Text at 0x10d09feb8>"
      ]
     },
     "execution_count": 9,
     "metadata": {},
     "output_type": "execute_result"
    },
    {
     "data": {
      "image/png": "[encoded data removed]",
      "text/plain": [
       "<matplotlib.figure.Figure at 0x1154aa940>"
      ]
     },
     "metadata": {},
     "output_type": "display_data"
    }
   ],
   "source": [
    "# Loading the parameters\n",
    "\n",
    "mat_contents = sio.loadmat('ex4dataN.mat')\n",
    "X = np.matrix(mat_contents['X'])\n",
    "y = np.matrix(mat_contents['y'])\n",
    "\n",
    "# splitting the data into training and cross validation sets\n",
    "X_train, X_CV, y_train, y_CV = train_test_split(X, y, test_size=0.2, random_state=0)\n",
    "\n",
    "# Endoing labels Y such that each label is a vector with 1 at index 'label' and zero otherwise\n",
    "encoder = OneHotEncoder(sparse=False)  \n",
    "y_train_onehot = encoder.fit_transform(y_train)\n",
    "\n",
    "# input layer size (equal to number of features (X.shape[1]))\n",
    "input_size = 400  \n",
    "\n",
    "# hidden layer size selected randomaly \n",
    "hidden_size = 25  \n",
    "\n",
    "# output layer size equal to the y_onehot.shape[1] (because labels are between [0,9]) \n",
    "num_labels = 10  \n",
    "\n",
    "# randomly initialize a parameter array of the size of the full network's parameters\n",
    "params = (np.random.random(size=hidden_size * (input_size + 1) + num_labels * (hidden_size + 1)) - 0.5) * 0.25\n",
    "\n",
    "# number of training examples\n",
    "m = X_train.shape[0]  \n",
    "\n",
    "# unravel the parameter array into parameter matrices for each layer\n",
    "theta1 = np.matrix(np.reshape(params[:hidden_size * (input_size + 1)], (hidden_size, (input_size + 1))))  \n",
    "theta2 = np.matrix(np.reshape(params[hidden_size * (input_size + 1):], (num_labels, (hidden_size + 1))))\n",
    "\n",
    "# initialize the accuracy\n",
    "best_accuracy = 0\n",
    "\n",
    "# minimize the objective function\n",
    "learning_rate = [0.1,0.3,1,3,9]\n",
    "error_train = []\n",
    "error_CV = []\n",
    "\n",
    "'''\n",
    "run the loop for all the values of learning rate. This will help us determine the learning rate parameter for \n",
    "which cross validation accuracy is highest, we can also plot the learning rate curve\n",
    "'''\n",
    "\n",
    "time_loop = []\n",
    "time_loop_start = time.time()\n",
    "\n",
    "for l in learning_rate:\n",
    "    \n",
    "    time_start = time.time()\n",
    "    \n",
    "    # using advanced optimization technique 'TNC' to find the weigths 'theta'\n",
    "    fmin = minimize(fun=backprop, x0=params, args=(input_size, hidden_size, num_labels, X_train, y_train_onehot, l),  \n",
    "                method='TNC', jac=True, options={'maxiter': 250})\n",
    "    \n",
    "    time_end = time.time()\n",
    "    \n",
    "    time_loop.append(time_end-time_start)\n",
    "    \n",
    "    # weights for the input layer\n",
    "    theta1 = np.matrix(np.reshape(fmin.x[:hidden_size * (input_size + 1)], (hidden_size, (input_size + 1))))\n",
    "    \n",
    "    #weights for the output layer\n",
    "    theta2 = np.matrix(np.reshape(fmin.x[hidden_size * (input_size + 1):], (num_labels, (hidden_size + 1))))\n",
    "    \n",
    "    # activation values of all the neural network layers for cross validation and training datasets\n",
    "    a1_CV, z2_CV, a2_CV, z3_CV, h_CV = forward_propagate(X_CV, theta1, theta2)\n",
    "    a1_train, z2_train, a2_train, z3_train, h_train = forward_propagate(X_train, theta1, theta2)\n",
    "    \n",
    "    # predicting the label values for cross validation and training data sets\n",
    "    # prediction output will be the output layer unit for which the activation is maximum\n",
    "    \n",
    "    yCV_pred =  np.array(np.argmax(h_CV, axis=1) )\n",
    "    ytrain_pred = np.array(np.argmax(h_train,axis=1))\n",
    "    \n",
    "    # Finding the cross validation accuracy\n",
    "    correctCV = [1 if a == b else 0 for (a, b) in zip(yCV_pred, y_CV)]  \n",
    "    accuracyCV = (sum(map(int, correctCV)) / float(len(correctCV))) \n",
    "    \n",
    "    # Finding the cross validation error\n",
    "    IncorrectCV = [1 if a != b else 0 for (a, b) in zip(yCV_pred, y_CV)]  \n",
    "    errorCV = (sum(map(int, IncorrectCV)) / float(len(IncorrectCV)))\n",
    "    error_CV.append(errorCV)\n",
    "    \n",
    "    # Finding the training accuracy\n",
    "    correcttrain = [1 if a == b else 0 for (a, b) in zip(ytrain_pred, y_train)]  \n",
    "    accuracytrain = (sum(map(int, correcttrain)) / float(len(correcttrain))) \n",
    "    \n",
    "    # Finding the training error\n",
    "    Incorrecttrain = [1 if a != b else 0 for (a, b) in zip(ytrain_pred, y_train)]  \n",
    "    errortrain = (sum(map(int, Incorrecttrain)) / float(len(Incorrecttrain)))\n",
    "    error_train.append(errortrain)\n",
    "    \n",
    "    if accuracyCV>best_accuracy:\n",
    "        best_accuracy = accuracyCV\n",
    "        best_learningrate = l\n",
    "        final_theta1 = theta1\n",
    "        final_theta2 = theta2\n",
    "    print(\"Cross Validation accuracy for learning rate {} is {:.2f}%\".format(l, accuracyCV*100))\n",
    "\n",
    "print(\"\\nBest Accuracy achieved by Cross Validation data set is {:.2f}% for learning rate {}\".format(best_accuracy*100,best_learningrate))\n",
    "\n",
    "time_loop_end = time.time()\n",
    "\n",
    "time_opt = time_loop_end-time_loop_start\n",
    "\n",
    "print(\"\\nTime taken to Run loop and find the best weight paramters is {:.3f} s\".format(time_opt))\n",
    "print(\"\\nTime taken to learn the weight parameters {:.3f} s\".format(sum(time_loop)))\n",
    "print(\"\\nTime taken to make prediction {:.3f} s\".format(time_opt-sum(time_loop)))\n",
    "\n",
    "    \n",
    "# Plotting the Learning Curves for training and cross validation error with learning_rates\n",
    "\n",
    "plt.plot(learning_rate,error_train,'r',label = 'Training Error')\n",
    "plt.plot(learning_rate, error_CV, 'b', label = 'Cross Validation Error')\n",
    "plt.legend(loc='best')\n",
    "\n",
    "plt.title('Learning Curve')\n",
    "plt.xlabel('Learning Rate (Regularization parameter)')\n",
    "plt.ylabel('Errors')"
   ]
  }
 ],
 "metadata": {
  "anaconda-cloud": {},
  "kernelspec": {
   "display_name": "Python [conda root]",
   "language": "python",
   "name": "conda-root-py"
  },
  "language_info": {
   "codemirror_mode": {
    "name": "ipython",
    "version": 3
   },
   "file_extension": ".py",
   "mimetype": "text/x-python",
   "name": "python",
   "nbconvert_exporter": "python",
   "pygments_lexer": "ipython3",
   "version": "3.5.2"
  }
 },
 "nbformat": 4,
 "nbformat_minor": 0
}
