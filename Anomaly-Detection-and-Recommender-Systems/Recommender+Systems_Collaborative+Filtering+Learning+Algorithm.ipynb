{
 "cells": [
  {
   "cell_type": "code",
   "execution_count": 200,
   "metadata": {
    "collapsed": false
   },
   "outputs": [],
   "source": [
    "'''\n",
    "Problem Statement:\n",
    "In this part of the exercise, you will implement the collaborative filtering learning algorithm and apply it \n",
    "to a dataset of movie ratings. This dataset consists of ratings on a scale of 1 to 5. \n",
    "The dataset has nu = 943 users, and nm = 1682 movies.\n",
    "'''\n",
    "\n",
    "import pandas as  pd\n",
    "import numpy as np\n",
    "import scipy.io as sio\n",
    "from scipy.optimize import minimize\n",
    "import matplotlib.pyplot as plt\n",
    "from matplotlib import rcParams\n",
    "%matplotlib inline\n",
    "\n",
    "import warnings \n",
    "warnings.filterwarnings('ignore')"
   ]
  },
  {
   "cell_type": "markdown",
   "metadata": {},
   "source": [
    "# Part 1: Loading Movie Ratings Dataset"
   ]
  },
  {
   "cell_type": "code",
   "execution_count": 169,
   "metadata": {
    "collapsed": false
   },
   "outputs": [
    {
     "name": "stdout",
     "output_type": "stream",
     "text": [
      "Loading Movie ratings dataset.\n",
      "\n",
      "Average rating for movie 1 (Toy Story) is 3.878 / 5\n",
      "\n"
     ]
    }
   ],
   "source": [
    "# We will start by loading the movie ratings dataset to understand the structure of the data.\n",
    "\n",
    "print(\"Loading Movie ratings dataset.\\n\")\n",
    "\n",
    "dataM = sio.loadmat('ex8_movies.mat')\n",
    "\n",
    "Y1 = dataM['Y']\n",
    "R1 = dataM['R']\n",
    "\n",
    "'''\n",
    "Y1 is a 1682x943 matrix, containing ratings (1-5) of 1682 movies on 943 users\n",
    "\n",
    "R1 is a 1682x943 matrix, where R1(i,j) = 1 if and only if user j gave arating to movie i\n",
    "'''\n",
    "\n",
    "# From the matrix, we can compute statistics like average rating.\n",
    "print('Average rating for movie 1 (Toy Story) is {:.3f} / 5\\n'.format(np.mean(Y1[0, R1[0, :]==1])))\n"
   ]
  },
  {
   "cell_type": "markdown",
   "metadata": {},
   "source": [
    "# Part 2 : Collaborative Filtering Cost Function & Gradient"
   ]
  },
  {
   "cell_type": "code",
   "execution_count": 170,
   "metadata": {
    "collapsed": false
   },
   "outputs": [],
   "source": [
    "def cofiCostFunc(params, Y, R, num_users, num_movies, num_features, learning_rate):\n",
    "    \n",
    "    '''\n",
    "    COFICOSTFUNC Collaborative filtering cost function returns the cost and gradient for the\n",
    "    collaborative filtering problem.\n",
    "    '''\n",
    "    \n",
    "    # Unfold the U and W matrices from params\n",
    "    X = np.matrix(np.reshape(params[0:num_movies*num_features], (num_movies, num_features)))\n",
    "    Theta = np.matrix(np.reshape(params[num_movies*num_features:], (num_users, num_features)))\n",
    "\n",
    "\n",
    "    '''\n",
    "    Notes:  \n",
    "    \n",
    "    X : num_movies  x num_features matrix of movie features\n",
    "    Theta : num_users  x num_features matrix of user features\n",
    "    Y : num_movies x num_users matrix of user ratings of movies\n",
    "    R : num_movies x num_users matrix, where R(i, j) = 1 if the i-th movie was rated by the j-th user\n",
    "    \n",
    "    You should set the following variables correctly:\n",
    "    \n",
    "    X_grad : num_movies x num_features matrix, containing the partial derivatives w.r.t. to each element of X\n",
    "    \n",
    "    Theta_grad : num_users x num_features matrix, containing the partial derivatives w.r.t. to each element of Theta\n",
    "    '''\n",
    "    \n",
    "    J1 = (1.0/2)*np.sum(np.multiply(R,np.power((np.dot(X,Theta.T)-Y),2)))  # cost term without considering regularization \n",
    "\n",
    "    Jreg = (float(learning_rate)/2)*np.sum(np.power(X,2))+(float(learning_rate)/2)*np.sum(np.power(Theta,2))\n",
    "    \n",
    "    J = J1+Jreg\n",
    "    \n",
    "    X_grad = np.dot(np.multiply(R,(np.dot(X,Theta.T)-Y)),Theta) + float(learning_rate)*X\n",
    "    Theta_grad = np.dot(np.multiply(R.T,(np.dot(X,Theta.T)-Y).T),X) + float(learning_rate)*Theta\n",
    "    \n",
    "    grad = np.hstack([X_grad.ravel(),Theta_grad.ravel()])\n",
    "    \n",
    "    return J,grad\n"
   ]
  },
  {
   "cell_type": "code",
   "execution_count": 171,
   "metadata": {
    "collapsed": false
   },
   "outputs": [
    {
     "name": "stdout",
     "output_type": "stream",
     "text": [
      "Cost at loaded parameters: 20.52 \n",
      " (this value should be about 22.22)\n",
      "\n",
      "Cost at loaded parameters (lambda = 1.5): 29.64 \n",
      " (this value should be about 31.34)\n",
      "\n"
     ]
    }
   ],
   "source": [
    "'''\n",
    "We will now implement the cost function for collaborative filtering.\n",
    "To help debug our cost function, we have included set of weights that we trained on that.\n",
    "'''\n",
    "\n",
    "# Load pre-trained weights (X, Theta, num_users, num_movies, num_features)\n",
    "Params = sio.loadmat('ex8_movieParams.mat')\n",
    "X = Params['X']\n",
    "Theta = Params['Theta']\n",
    "num_users = Params['num_users']\n",
    "num_movies = Params['num_movies']\n",
    "num_features = Params['num_features']\n",
    "\n",
    "# Reduce the data set size so that this runs faster\n",
    "num_users = 4\n",
    "num_movies = 5\n",
    "num_features = 3\n",
    "X = X[0:num_movies, 0:num_features]\n",
    "Theta = Theta[0:num_users, 0:num_features]\n",
    "Y = Y[0:num_movies, 0:num_users]\n",
    "R = R[0:num_movies, 0:num_users]\n",
    "\n",
    "# Evaluate cost function for regularization rate of 0\n",
    "J,grad = cofiCostFunc(np.hstack([X.ravel(),Theta.ravel()]), Y, R, num_users, \\\n",
    "                 num_movies, num_features, 0)\n",
    "\n",
    "print('Cost at loaded parameters: {:.2f} \\n (this value should be about 22.22)\\n'.format(J))\n",
    "\n",
    "# Evaluate cost function for regularization rate of 1.5\n",
    "J,grad = cofiCostFunc(np.hstack([X.ravel(),Theta.ravel()]), Y, R, num_users, \\\n",
    "                 num_movies, num_features, 1.5)\n",
    "\n",
    "print('Cost at loaded parameters (lambda = 1.5): {:.2f} \\n (this value should be about 31.34)\\n'.format(J))"
   ]
  },
  {
   "cell_type": "markdown",
   "metadata": {},
   "source": [
    "# Part 3: Entering Ratings for a new User"
   ]
  },
  {
   "cell_type": "code",
   "execution_count": 177,
   "metadata": {
    "collapsed": false
   },
   "outputs": [
    {
     "name": "stdout",
     "output_type": "stream",
     "text": [
      "\n",
      "\n",
      "New user ratings:\n",
      "\n",
      "Rated 4 for Toy Story (1995)\n",
      "Rated 3 for Twelve Monkeys (1995)\n",
      "Rated 5 for Usual Suspects, The (1995)\n",
      "Rated 4 for Outbreak (1995)\n",
      "Rated 5 for Shawshank Redemption, The (1994)\n",
      "Rated 3 for While You Were Sleeping (1995)\n",
      "Rated 5 for Forrest Gump (1994)\n",
      "Rated 2 for Silence of the Lambs, The (1991)\n",
      "Rated 4 for Alien (1979)\n",
      "Rated 5 for Die Hard 2 (1990)\n",
      "Rated 5 for Sphere (1998)\n"
     ]
    }
   ],
   "source": [
    "'''\n",
    "Before we will train the collaborative filtering model, we will first add ratings that correspond to \n",
    "a new user that we just observed. This part of the code will also allow you to put in your own ratings for the\n",
    "movies in our dataset!\n",
    "'''\n",
    "\n",
    "# Read the fixed movieulary list\n",
    "fid = open('movie_ids.txt',encoding = \"ISO-8859-1\")\n",
    "\n",
    "n = 1682  # Total number of movies \n",
    "\n",
    "movieList = []\n",
    "i = 0 \n",
    "\n",
    "for line in fid:\n",
    "    \n",
    "    movie = line.strip().split(' ')\n",
    "    movieList.append(str(' '.join(movie[1:])))\n",
    "\n",
    "fid.close()\n",
    "\n",
    "# Initialize my ratings\n",
    "my_ratings = np.zeros((1682, 1))\n",
    "\n",
    "# Check the file movie_idx.txt for id of each movie in our dataset\n",
    "# For example, Toy Story (1995) has ID 0, so to rate it \"4\", you can set\n",
    "my_ratings[0] = 4\n",
    "\n",
    "# Or suppose did not enjoy Silence of the Lambs (1991), you can set\n",
    "my_ratings[97] = 2\n",
    "\n",
    "# We have selected a few movies we liked / did not like and the ratings we gave are as follows:\n",
    "my_ratings[6] = 3\n",
    "my_ratings[11]= 5\n",
    "my_ratings[53] = 4\n",
    "my_ratings[63]= 5\n",
    "my_ratings[65]= 3\n",
    "my_ratings[68] = 5\n",
    "my_ratings[182] = 4\n",
    "my_ratings[225] = 5\n",
    "my_ratings[354]= 5\n",
    "\n",
    "print('\\n\\nNew user ratings:\\n')\n",
    "\n",
    "for i in range(len(my_ratings)):\n",
    "    if my_ratings[i] > 0.: \n",
    "        print('Rated {} for {}'.format(int(my_ratings[i]),movieList[i]))"
   ]
  },
  {
   "cell_type": "markdown",
   "metadata": {},
   "source": [
    "# Part 4 : Learning Movie Ratings"
   ]
  },
  {
   "cell_type": "code",
   "execution_count": 260,
   "metadata": {
    "collapsed": false
   },
   "outputs": [
    {
     "name": "stdout",
     "output_type": "stream",
     "text": [
      "Recommender system learning completed.\n",
      "\n"
     ]
    }
   ],
   "source": [
    "''' \n",
    "Now, you will train the collaborative filtering model on a movie rating dataset of 1682 movies and 943 users\n",
    "''' \n",
    "\n",
    "'''\n",
    "We will use the movie data loaded in Part 1 where,\n",
    "Y1 is a 1682x943 matrix, containing ratings (1-5) of 1682 movies by 943 users\n",
    "&\n",
    "R1 is a 1682x943 matrix, where R1(i,j) = 1 if and only if user j gave a\n",
    "rating to movie i \n",
    "'''\n",
    "\n",
    "# Add our own ratings to the data matrix\n",
    "Y = np.hstack([my_ratings,Y1])\n",
    "R = np.hstack([(my_ratings != 0),R1])\n",
    "\n",
    "\n",
    "#  Normalize Ratings\n",
    "Ymean = np.zeros((Y.shape[0],1))\n",
    "Ynorm = np.zeros(Y.shape)\n",
    "\n",
    "for i in range(Y.shape[0]):\n",
    "    idx = np.where(R[i,:]==1)\n",
    "    Ymean[i] = np.mean(Y[i,idx])\n",
    "    Ynorm[i,idx] = Y[i,idx]-Ymean[i]\n",
    "\n",
    "# Useful Values\n",
    "num_movies, num_users = Y.shape\n",
    "num_features = 10\n",
    "\n",
    "# Set Initial Parameters (Theta, X)\n",
    "X = np.random.randn(num_movies, num_features)\n",
    "Theta = np.random.randn(num_users, num_features)\n",
    "\n",
    "# Ravel the parameters X and Theta to be passed in our cost function\n",
    "initial_parameters = np.hstack([X.ravel(),Theta.ravel()])\n",
    "\n",
    "# Set Regularization\n",
    "learning_rate = 1.5\n",
    "\n",
    "fmin = minimize(fun = cofiCostFunc, x0= initial_parameters, args=(Ynorm, R, num_users, num_movies, num_features, learning_rate), \\\n",
    "              jac = True, method = 'TNC', options = {'maxiter':300})\n",
    "\n",
    "theta = fmin.x\n",
    "\n",
    "X = np.matrix(np.reshape(theta[0:num_movies*num_features], (num_movies, num_features)))\n",
    "Theta = np.matrix(np.reshape(theta[num_movies*num_features:], (num_users, num_features)))\n",
    "\n",
    "print('Recommender system learning completed.\\n')"
   ]
  },
  {
   "cell_type": "markdown",
   "metadata": {},
   "source": [
    "# Recommendation For You"
   ]
  },
  {
   "cell_type": "code",
   "execution_count": 261,
   "metadata": {
    "collapsed": false
   },
   "outputs": [
    {
     "name": "stdout",
     "output_type": "stream",
     "text": [
      "\n",
      "Top 10 recommendations for you:\n",
      "\n",
      "Predicting rating 5.2 for movie Pillow Book, The (1995)\n",
      "Predicting rating 5.0 for movie Saint of Fort Washington, The (1993)\n",
      "Predicting rating 5.0 for movie Prefontaine (1997)\n",
      "Predicting rating 5.0 for movie They Made Me a Criminal (1939)\n",
      "Predicting rating 5.0 for movie Marlene Dietrich: Shadow and Light (1996)\n",
      "Predicting rating 5.0 for movie Santa with Muscles (1996)\n",
      "Predicting rating 5.0 for movie Aiqing wansui (1994)\n",
      "Predicting rating 5.0 for movie Entertaining Angels: The Dorothy Day Story (1996)\n",
      "Predicting rating 5.0 for movie Great Day in Harlem, A (1994)\n",
      "Predicting rating 5.0 for movie Someone Else's America (1995)\n",
      "\n",
      "\n",
      "Original ratings provided:\n",
      "\n",
      "Rated 4.0 for Toy Story (1995)\n",
      "Rated 3.0 for Twelve Monkeys (1995)\n",
      "Rated 5.0 for Usual Suspects, The (1995)\n",
      "Rated 4.0 for Outbreak (1995)\n",
      "Rated 5.0 for Shawshank Redemption, The (1994)\n",
      "Rated 3.0 for While You Were Sleeping (1995)\n",
      "Rated 5.0 for Forrest Gump (1994)\n",
      "Rated 2.0 for Silence of the Lambs, The (1991)\n",
      "Rated 4.0 for Alien (1979)\n",
      "Rated 5.0 for Die Hard 2 (1990)\n",
      "Rated 5.0 for Sphere (1998)\n"
     ]
    }
   ],
   "source": [
    "# After training the model, you can now make recommendations by computing the predictions matrix.\n",
    "\n",
    "p = np.dot(X, Theta.T)\n",
    "my_predictions = p[:,0] + Ymean\n",
    "\n",
    "idx = np.argsort(my_predictions, axis=0)[::-1]  # Index of sorted predictions in 'descending' oreder\n",
    "\n",
    "print('\\nTop 10 recommendations for you:\\n')\n",
    "\n",
    "for i in range(10):\n",
    "    j = int(idx[i])\n",
    "    print('Predicting rating {:.1f} for movie {}'.format(float(my_predictions[j]),movieList[j]))\n",
    "\n",
    "print('\\n\\nOriginal ratings provided:\\n')\n",
    "\n",
    "for i in range(len(my_ratings)):\n",
    "    if my_ratings[i] > 0:\n",
    "        print('Rated {:.1f} for {}'.format(float(my_ratings[i]),movieList[i]))\n"
   ]
  },
  {
   "cell_type": "code",
   "execution_count": null,
   "metadata": {
    "collapsed": true
   },
   "outputs": [],
   "source": []
  }
 ],
 "metadata": {
  "anaconda-cloud": {},
  "kernelspec": {
   "display_name": "Python [default]",
   "language": "python",
   "name": "python3"
  },
  "language_info": {
   "codemirror_mode": {
    "name": "ipython",
    "version": 3
   },
   "file_extension": ".py",
   "mimetype": "text/x-python",
   "name": "python",
   "nbconvert_exporter": "python",
   "pygments_lexer": "ipython3",
   "version": "3.5.2"
  }
 },
 "nbformat": 4,
 "nbformat_minor": 1
}
